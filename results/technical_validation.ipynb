{
 "cells": [
  {
   "cell_type": "code",
   "execution_count": 2,
   "id": "b81cd277",
   "metadata": {},
   "outputs": [],
   "source": [
    "import pandas as pd\n",
    "import seaborn as sns\n",
    "import matplotlib.pyplot as plt\n"
   ]
  },
  {
   "cell_type": "code",
   "execution_count": 7,
   "id": "8601865c",
   "metadata": {
    "scrolled": false
   },
   "outputs": [
    {
     "name": "stdout",
     "output_type": "stream",
     "text": [
      "          Unnamed: 0  percent_overlap\n",
      "contrast                             \n",
      "cue           2997.0         0.904759\n",
      "lf            2998.0         0.549964\n",
      "lh            2999.0         0.826139\n",
      "rf            3000.0         0.520952\n",
      "rh            3001.0         0.805597\n",
      "t             3002.0         0.819304\n",
      "          Unnamed: 0  percent_overlap\n",
      "contrast                             \n",
      "cue           2997.0         0.954461\n",
      "lf            2998.0         0.487836\n",
      "lh            2999.0         0.740444\n",
      "rf            3000.0         0.438247\n",
      "rh            3001.0         0.689215\n",
      "t             3002.0         0.741608\n",
      "          Unnamed: 0  percent_overlap\n",
      "contrast                             \n",
      "cue           2997.0         0.866503\n",
      "lf            2998.0         0.450081\n",
      "lh            2999.0         0.815933\n",
      "rf            3000.0         0.356787\n",
      "rh            3001.0         0.812827\n",
      "t             3002.0         0.785698\n",
      "          Unnamed: 0  percent_overlap\n",
      "contrast                             \n",
      "cue           2997.0         0.936891\n",
      "lf            2998.0         0.409326\n",
      "lh            2999.0         0.738512\n",
      "rf            3000.0         0.354345\n",
      "rh            3001.0         0.689873\n",
      "t             3002.0         0.703662\n",
      "          Unnamed: 0  percent_overlap\n",
      "contrast                             \n",
      "cue           2997.0         0.883854\n",
      "lf            2998.0         0.436169\n",
      "lh            2999.0         0.809990\n",
      "rf            3000.0         0.319579\n",
      "rh            3001.0         0.818252\n",
      "t             3002.0         0.795740\n",
      "          Unnamed: 0  percent_overlap\n",
      "contrast                             \n",
      "cue           2997.0         0.956254\n",
      "lf            2998.0         0.397183\n",
      "lh            2999.0         0.746708\n",
      "rf            3000.0         0.273309\n",
      "rh            3001.0         0.747474\n",
      "t             3002.0         0.752607\n"
     ]
    },
    {
     "name": "stderr",
     "output_type": "stream",
     "text": [
      "/var/folders/k4/cck9mrt578q044z6x6zmsnc400m_jt/T/ipykernel_62436/3022286824.py:6: FutureWarning: The default value of numeric_only in DataFrameGroupBy.mean is deprecated. In a future version, numeric_only will default to False. Either specify numeric_only or select only columns which should be valid for the function.\n",
      "  print(df.groupby(['contrast']).mean())\n",
      "/var/folders/k4/cck9mrt578q044z6x6zmsnc400m_jt/T/ipykernel_62436/3022286824.py:6: FutureWarning: The default value of numeric_only in DataFrameGroupBy.mean is deprecated. In a future version, numeric_only will default to False. Either specify numeric_only or select only columns which should be valid for the function.\n",
      "  print(df.groupby(['contrast']).mean())\n",
      "/var/folders/k4/cck9mrt578q044z6x6zmsnc400m_jt/T/ipykernel_62436/3022286824.py:6: FutureWarning: The default value of numeric_only in DataFrameGroupBy.mean is deprecated. In a future version, numeric_only will default to False. Either specify numeric_only or select only columns which should be valid for the function.\n",
      "  print(df.groupby(['contrast']).mean())\n",
      "/var/folders/k4/cck9mrt578q044z6x6zmsnc400m_jt/T/ipykernel_62436/3022286824.py:6: FutureWarning: The default value of numeric_only in DataFrameGroupBy.mean is deprecated. In a future version, numeric_only will default to False. Either specify numeric_only or select only columns which should be valid for the function.\n",
      "  print(df.groupby(['contrast']).mean())\n",
      "/var/folders/k4/cck9mrt578q044z6x6zmsnc400m_jt/T/ipykernel_62436/3022286824.py:6: FutureWarning: The default value of numeric_only in DataFrameGroupBy.mean is deprecated. In a future version, numeric_only will default to False. Either specify numeric_only or select only columns which should be valid for the function.\n",
      "  print(df.groupby(['contrast']).mean())\n",
      "/var/folders/k4/cck9mrt578q044z6x6zmsnc400m_jt/T/ipykernel_62436/3022286824.py:6: FutureWarning: The default value of numeric_only in DataFrameGroupBy.mean is deprecated. In a future version, numeric_only will default to False. Either specify numeric_only or select only columns which should be valid for the function.\n",
      "  print(df.groupby(['contrast']).mean())\n"
     ]
    }
   ],
   "source": [
    "for soft in ['FSL']:\n",
    "    for f in [5]:\n",
    "        for p in [0,6,24]:\n",
    "            for h in [0,1]:\n",
    "                df = pd.read_csv(f'../figures/validation_{soft}_{f}_{p}_{h}_roi_unilat.csv')\n",
    "                print(df.groupby(['contrast']).mean())\n",
    "                \n",
    "                #fig = plt.figure(figsize=(16,10))\n",
    "\n",
    "                #sns.set_style(\"whitegrid\")\n",
    "                #sns.boxplot(data=df, x=\"contrast\", y=\"percent_overlap\")\n",
    "                #plt.show()"
   ]
  },
  {
   "cell_type": "code",
   "execution_count": 8,
   "id": "2af48073",
   "metadata": {},
   "outputs": [
    {
     "name": "stderr",
     "output_type": "stream",
     "text": [
      "/Users/egermani/miniforge3/envs/workEnv/lib/python3.9/site-packages/nilearn/datasets/__init__.py:93: FutureWarning: Fetchers from the nilearn.datasets module will be updated in version 0.9 to return python strings instead of bytes and Pandas dataframes instead of Numpy arrays.\n",
      "  warn(\"Fetchers from the nilearn.datasets module will be \"\n"
     ]
    },
    {
     "data": {
      "text/plain": [
       "{'filename': <nibabel.nifti1.Nifti1Image at 0x155b76e80>,\n",
       " 'maps': <nibabel.nifti1.Nifti1Image at 0x1578e06d0>,\n",
       " 'labels': ['Background',\n",
       "  'GM Amygdala_centromedial group',\n",
       "  'GM Amygdala_laterobasal group',\n",
       "  'GM Amygdala_superficial group',\n",
       "  'GM Anterior intra-parietal sulcus hIP1',\n",
       "  'GM Anterior intra-parietal sulcus hIP2',\n",
       "  'GM Anterior intra-parietal sulcus hIP3',\n",
       "  \"GM Broca's area BA44\",\n",
       "  \"GM Broca's area BA45\",\n",
       "  'GM Hippocampus cornu ammonis',\n",
       "  'GM Hippocampus dentate gyrus',\n",
       "  'GM Hippocampus entorhinal cortex',\n",
       "  'GM Hippocampus hippocampal-amygdaloid transition area',\n",
       "  'GM Hippocampus subiculum',\n",
       "  'GM Inferior parietal lobule PF',\n",
       "  'GM Inferior parietal lobule PFcm',\n",
       "  'GM Inferior parietal lobule PFm',\n",
       "  'GM Inferior parietal lobule PFop',\n",
       "  'GM Inferior parietal lobule PFt',\n",
       "  'GM Inferior parietal lobule PGp',\n",
       "  'GM Inferior parietal lobule Pga',\n",
       "  'GM Insula Id1',\n",
       "  'GM Insula Ig1',\n",
       "  'GM Insula Ig2',\n",
       "  'GM Lateral geniculate body',\n",
       "  'GM Mamillary body',\n",
       "  'GM Medial geniculate body',\n",
       "  'GM Premotor cortex BA6',\n",
       "  'GM Primary auditory cortex TE1.0',\n",
       "  'GM Primary auditory cortex TE1.1',\n",
       "  'GM Primary auditory cortex TE1.2',\n",
       "  'GM Primary motor cortex BA4a',\n",
       "  'GM Primary motor cortex BA4p',\n",
       "  'GM Primary somatosensory cortex BA1',\n",
       "  'GM Primary somatosensory cortex BA2',\n",
       "  'GM Primary somatosensory cortex BA3a',\n",
       "  'GM Primary somatosensory cortex BA3b',\n",
       "  'GM Secondary somatosensory cortex / Parietal operculum OP1',\n",
       "  'GM Secondary somatosensory cortex / Parietal operculum OP2',\n",
       "  'GM Secondary somatosensory cortex / Parietal operculum OP3',\n",
       "  'GM Secondary somatosensory cortex / Parietal operculum OP4',\n",
       "  'GM Superior parietal lobule 5Ci',\n",
       "  'GM Superior parietal lobule 5L',\n",
       "  'GM Superior parietal lobule 5M',\n",
       "  'GM Superior parietal lobule 7A',\n",
       "  'GM Superior parietal lobule 7M',\n",
       "  'GM Superior parietal lobule 7P',\n",
       "  'GM Superior parietal lobule 7PC',\n",
       "  'GM Visual cortex V1 BA17',\n",
       "  'GM Visual cortex V2 BA18',\n",
       "  'GM Visual cortex V3V',\n",
       "  'GM Visual cortex V4',\n",
       "  'GM Visual cortex V5',\n",
       "  'WM Acoustic radiation',\n",
       "  'WM Callosal body',\n",
       "  'WM Cingulum',\n",
       "  'WM Corticospinal tract',\n",
       "  'WM Fornix',\n",
       "  'WM Inferior occipito-frontal fascicle',\n",
       "  'WM Optic radiation',\n",
       "  'WM Superior longitudinal fascicle',\n",
       "  'WM Superior occipito-frontal fascicle',\n",
       "  'WM Uncinate fascicle']}"
      ]
     },
     "execution_count": 8,
     "metadata": {},
     "output_type": "execute_result"
    }
   ],
   "source": [
    "from nilearn import datasets\n",
    "d = datasets.fetch_atlas_juelich('prob-2mm')"
   ]
  },
  {
   "cell_type": "code",
   "execution_count": null,
   "id": "b4797b4e",
   "metadata": {},
   "outputs": [],
   "source": []
  }
 ],
 "metadata": {
  "kernelspec": {
   "display_name": "Python 3 (ipykernel)",
   "language": "python",
   "name": "python3"
  },
  "language_info": {
   "codemirror_mode": {
    "name": "ipython",
    "version": 3
   },
   "file_extension": ".py",
   "mimetype": "text/x-python",
   "name": "python",
   "nbconvert_exporter": "python",
   "pygments_lexer": "ipython3",
   "version": "3.9.15"
  }
 },
 "nbformat": 4,
 "nbformat_minor": 5
}
