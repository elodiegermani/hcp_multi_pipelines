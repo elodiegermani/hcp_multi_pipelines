{
 "cells": [
  {
   "cell_type": "code",
   "execution_count": 7,
   "id": "33ac15ea",
   "metadata": {},
   "outputs": [
    {
     "name": "stdout",
     "output_type": "stream",
     "text": [
      "/Volumes/Expansion/pipeline_transition/figures/ER_DATASET_SOFT_SPM_FWHM_8_MC_PARAM_24_HRF_1_VS_DATASET_SOFT_SPM_FWHM_8_MC_PARAM_24_HRF_1\n",
      "Computing error rate...\n",
      "Image 26 contains errors.\n",
      "Image 33 contains errors.\n",
      "Image 93 contains errors.\n",
      "Image 103 contains errors.\n",
      "Image 153 contains errors.\n",
      "Image 186 contains errors.\n",
      "Image 189 contains errors.\n",
      "Image 199 contains errors.\n",
      "Image 253 contains errors.\n",
      "Image 257 contains errors.\n",
      "Image 264 contains errors.\n",
      "Image 290 contains errors.\n",
      "Image 317 contains errors.\n",
      "Image 338 contains errors.\n",
      "Image 378 contains errors.\n",
      "Image 390 contains errors.\n",
      "Image 391 contains errors.\n",
      "Image 466 contains errors.\n",
      "Image 519 contains errors.\n",
      "Image 541 contains errors.\n",
      "Image 542 contains errors.\n",
      "Image 573 contains errors.\n",
      "Image 602 contains errors.\n",
      "Image 620 contains errors.\n",
      "Image 626 contains errors.\n",
      "Image 637 contains errors.\n",
      "Image 646 contains errors.\n",
      "Image 649 contains errors.\n",
      "Image 671 contains errors.\n",
      "Image 681 contains errors.\n",
      "Image 696 contains errors.\n",
      "Image 701 contains errors.\n",
      "Image 749 contains errors.\n",
      "Image 752 contains errors.\n",
      "Image 773 contains errors.\n",
      "Image 809 contains errors.\n",
      "Image 819 contains errors.\n",
      "Image 820 contains errors.\n",
      "Image 822 contains errors.\n",
      "Image 827 contains errors.\n",
      "Image 851 contains errors.\n",
      "Image 862 contains errors.\n",
      "Image 869 contains errors.\n",
      "Image 882 contains errors.\n",
      "Image 893 contains errors.\n",
      "Image 925 contains errors.\n",
      "Image 932 contains errors.\n",
      "Image 944 contains errors.\n",
      "Image 946 contains errors.\n",
      "Image 956 contains errors.\n",
      "0.023\n",
      "0.027\n"
     ]
    }
   ],
   "source": [
    "import error_rate_computation\n",
    "for f in [8]:\n",
    "    for p in [24]:\n",
    "        for h in [1]:\n",
    "            result_dir = f'/Volumes/Expansion/pipeline_transition/figures/ER_DATASET_SOFT_SPM_FWHM_{f}_MC_PARAM_{p}_HRF_{h}_VS_DATASET_SOFT_SPM_FWHM_{f}_MC_PARAM_{p}_HRF_{h}'\n",
    "            n_iter = 1000\n",
    "            contrast_list = ['rh']\n",
    "            print(result_dir)\n",
    "            error_rate_computation.compute_error_rate(result_dir, n_iter, contrast_list)"
   ]
  },
  {
   "cell_type": "code",
   "execution_count": null,
   "id": "71ec1b5f",
   "metadata": {},
   "outputs": [],
   "source": []
  }
 ],
 "metadata": {
  "kernelspec": {
   "display_name": "Python 3 (ipykernel)",
   "language": "python",
   "name": "python3"
  },
  "language_info": {
   "codemirror_mode": {
    "name": "ipython",
    "version": 3
   },
   "file_extension": ".py",
   "mimetype": "text/x-python",
   "name": "python",
   "nbconvert_exporter": "python",
   "pygments_lexer": "ipython3",
   "version": "3.9.7"
  }
 },
 "nbformat": 4,
 "nbformat_minor": 5
}
